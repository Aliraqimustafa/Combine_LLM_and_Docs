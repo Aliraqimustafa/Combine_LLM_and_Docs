{
 "cells": [
  {
   "cell_type": "code",
   "execution_count": 12,
   "id": "40d8e590",
   "metadata": {
    "height": 30
   },
   "outputs": [],
   "source": [
    "pip install langchain==0.0.179 faiss-cpu==1.7.4"
   ]
  },
  {
   "cell_type": "code",
   "execution_count": 1,
   "id": "49db6990",
   "metadata": {
    "height": 47
   },
   "outputs": [
    {
     "data": {
      "text/plain": [
       "'0.0.179'"
      ]
     },
     "execution_count": 1,
     "metadata": {},
     "output_type": "execute_result"
    }
   ],
   "source": [
    "import langchain\n",
    "langchain.__version__"
   ]
  },
  {
   "cell_type": "markdown",
   "id": "399f1a84",
   "metadata": {},
   "source": [
    "# Loading"
   ]
  },
  {
   "cell_type": "code",
   "execution_count": 20,
   "id": "a1230152",
   "metadata": {
    "height": 98
   },
   "outputs": [],
   "source": [
    "from langchain.document_loaders import WebBaseLoader\n",
    "\n",
    "url = 'https://raw.githubusercontent.com/Aliraqimustafa/state_of_the_union/main/state_of_the_union.txt'\n",
    "web_loader = WebBaseLoader(url)\n",
    "docs_loaded = web_loader.load()"
   ]
  },
  {
   "cell_type": "code",
   "execution_count": 21,
   "id": "deffe77a",
   "metadata": {
    "height": 30
   },
   "outputs": [
    {
     "data": {
      "text/plain": [
       "1"
      ]
     },
     "execution_count": 21,
     "metadata": {},
     "output_type": "execute_result"
    }
   ],
   "source": [
    "len(docs_loaded)"
   ]
  },
  {
   "cell_type": "code",
   "execution_count": 22,
   "id": "c07e5b16",
   "metadata": {
    "height": 30
   },
   "outputs": [
    {
     "name": "stdout",
     "output_type": "stream",
     "text": [
      "Madam Speaker, Madam Vice President, our First Lad\n"
     ]
    }
   ],
   "source": [
    "print(docs_loaded[0].page_content[:50])"
   ]
  },
  {
   "cell_type": "markdown",
   "id": "68cf7e86",
   "metadata": {
    "height": 30
   },
   "source": [
    "# Splitting"
   ]
  },
  {
   "cell_type": "code",
   "execution_count": 23,
   "id": "db515447",
   "metadata": {
    "height": 98
   },
   "outputs": [],
   "source": [
    "from langchain.text_splitter import RecursiveCharacterTextSplitter\n",
    "\n",
    "text_splitter = RecursiveCharacterTextSplitter(chunk_size = 700, chunk_overlap = 100)\n",
    "\n",
    "docs_splitted = text_splitter.split_documents(docs_loaded)"
   ]
  },
  {
   "cell_type": "code",
   "execution_count": 24,
   "id": "c6ac1d2e",
   "metadata": {
    "height": 30
   },
   "outputs": [
    {
     "data": {
      "text/plain": [
       "64"
      ]
     },
     "execution_count": 24,
     "metadata": {},
     "output_type": "execute_result"
    }
   ],
   "source": [
    "len(docs_splitted)"
   ]
  },
  {
   "cell_type": "code",
   "execution_count": 26,
   "id": "332404d3",
   "metadata": {
    "height": 30
   },
   "outputs": [
    {
     "name": "stdout",
     "output_type": "stream",
     "text": [
      "Madam Speaker, Madam Vice President, our First Lady and Second Gentleman. Members of Congress and the Cabinet. Justices of the Supreme Court. My fellow Americans.  \n",
      "\n",
      "Last year COVID-19 kept us apart. This year we are finally together again. \n",
      "\n",
      "Tonight, we meet as Democrats Republicans and Independents. But most importantly as Americans. \n",
      "\n",
      "With a duty to one another to the American people to the Constitution. \n",
      "\n",
      "And with an unwavering resolve that freedom will always triumph over tyranny. \n",
      "\n",
      "Six days ago, Russia’s Vladimir Putin sought to shake the foundations of the free world thinking he could make it bend to his menacing ways. But he badly miscalculated.\n"
     ]
    }
   ],
   "source": [
    "print(docs_splitted[0].page_content)"
   ]
  },
  {
   "cell_type": "markdown",
   "id": "2efa255b",
   "metadata": {
    "height": 30
   },
   "source": [
    "# Storage [ VectorStores ]"
   ]
  },
  {
   "cell_type": "code",
   "execution_count": 37,
   "id": "9beb548f",
   "metadata": {
    "height": 98
   },
   "outputs": [],
   "source": [
    "from langchain.embeddings.openai import OpenAIEmbeddings\n",
    "from langchain.vectorstores.faiss import FAISS\n",
    "\n",
    "embeddings = OpenAIEmbeddings()\n",
    "storage = FAISS.from_documents(documents = docs_splitted ,embedding = embeddings )"
   ]
  },
  {
   "cell_type": "code",
   "execution_count": 50,
   "id": "d9cbe31b",
   "metadata": {
    "height": 30
   },
   "outputs": [],
   "source": [
    "iraq_docs = storage.similarity_search_with_score(query = 'What was said about Iraq?', k=2)"
   ]
  },
  {
   "cell_type": "code",
   "execution_count": 54,
   "id": "cb14689b",
   "metadata": {
    "height": 30
   },
   "outputs": [
    {
     "name": "stdout",
     "output_type": "stream",
     "text": [
      "(Document(page_content='As I have made crystal clear the United States and our Allies will defend every inch of territory of NATO countries with the full force of our collective power.  \\n\\nAnd we remain clear-eyed. The Ukrainians are fighting back with pure courage. But the next few days weeks, months, will be hard on them.  \\n\\nPutin has unleashed violence and chaos.  But while he may make gains on the battlefield – he will pay a continuing high price over the long run. \\n\\nAnd a proud Ukrainian people, who have known 30 years  of independence, have repeatedly shown that they will not tolerate anyone who tries to take their country backwards.', metadata={'source': 'https://raw.githubusercontent.com/Aliraqimustafa/state_of_the_union/main/state_of_the_union.txt'}), 0.44413096)\n"
     ]
    }
   ],
   "source": [
    "print(iraq_docs[1])"
   ]
  },
  {
   "cell_type": "markdown",
   "id": "a99a8a0a",
   "metadata": {},
   "source": [
    "# LLM"
   ]
  },
  {
   "cell_type": "code",
   "execution_count": 59,
   "id": "cf364233",
   "metadata": {
    "height": 115
   },
   "outputs": [],
   "source": [
    "from langchain.llms.openai import OpenAI\n",
    "from langchain.chains.question_answering import load_qa_chain\n",
    "\n",
    "llm = OpenAI(temperature=.0)\n",
    "\n",
    "chain = load_qa_chain(llm=llm)"
   ]
  },
  {
   "cell_type": "code",
   "execution_count": 81,
   "id": "b5f6aa2e",
   "metadata": {
    "height": 47
   },
   "outputs": [
    {
     "name": "stdout",
     "output_type": "stream",
     "text": [
      "Use the following pieces of context to answer the question at the end. If you don't know the answer, just say that you don't know, don't try to make up an answer.\n",
      "\n",
      "{context}\n",
      "\n",
      "Question: {question}\n",
      "Helpful Answer:\n"
     ]
    }
   ],
   "source": [
    "template = chain.llm_chain.prompt.template\n",
    "print(template)"
   ]
  },
  {
   "cell_type": "markdown",
   "id": "2ea338ab",
   "metadata": {},
   "source": [
    "# Combine LLM & Storage"
   ]
  },
  {
   "cell_type": "code",
   "execution_count": 92,
   "id": "c98bdec6",
   "metadata": {
    "height": 64
   },
   "outputs": [],
   "source": [
    "def Aswer_question(user_question ,k=5):\n",
    "    docs = storage.similarity_search(user_question,k=k)\n",
    "    return chain.run(input_documents=docs, question=user_question)"
   ]
  },
  {
   "cell_type": "markdown",
   "id": "c46d6003",
   "metadata": {},
   "source": [
    "## Test"
   ]
  },
  {
   "cell_type": "code",
   "execution_count": 93,
   "id": "92652df6",
   "metadata": {
    "height": 30
   },
   "outputs": [],
   "source": [
    "answer = Aswer_question('What was said about Iraq?')"
   ]
  },
  {
   "cell_type": "code",
   "execution_count": 95,
   "id": "4d8c0b53",
   "metadata": {
    "height": 30
   },
   "outputs": [
    {
     "name": "stdout",
     "output_type": "stream",
     "text": [
      " Our troops in Iraq and Afghanistan faced many dangers, one of which was stationed at bases and breathing in toxic smoke from “burn pits” that incinerated wastes of war—medical and hazard material, jet fuel, and more. When they came home, many of the world’s fittest and best trained warriors were never the same.\n"
     ]
    }
   ],
   "source": [
    "print(answer)"
   ]
  },
  {
   "cell_type": "code",
   "execution_count": null,
   "id": "cd3218d6",
   "metadata": {
    "height": 30
   },
   "outputs": [],
   "source": []
  },
  {
   "cell_type": "code",
   "execution_count": null,
   "id": "e62ee49d",
   "metadata": {
    "height": 30
   },
   "outputs": [],
   "source": []
  },
  {
   "cell_type": "code",
   "execution_count": null,
   "id": "552a1acc",
   "metadata": {
    "height": 30
   },
   "outputs": [],
   "source": []
  },
  {
   "cell_type": "code",
   "execution_count": null,
   "id": "306e1930",
   "metadata": {
    "height": 30
   },
   "outputs": [],
   "source": []
  }
 ],
 "metadata": {
  "kernelspec": {
   "display_name": "Python 3 (ipykernel)",
   "language": "python",
   "name": "python3"
  },
  "language_info": {
   "codemirror_mode": {
    "name": "ipython",
    "version": 3
   },
   "file_extension": ".py",
   "mimetype": "text/x-python",
   "name": "python",
   "nbconvert_exporter": "python",
   "pygments_lexer": "ipython3",
   "version": "3.9.17"
  }
 },
 "nbformat": 4,
 "nbformat_minor": 5
}
